{
  "cells": [
    {
      "metadata": {
        "trusted": true
      },
      "cell_type": "code",
      "source": "import os\ncwd = os.getcwd()\n\ndark_image_filename = os.path.join(cwd, \"dark.jpg\")",
      "execution_count": null,
      "outputs": []
    },
    {
      "metadata": {
        "trusted": true
      },
      "cell_type": "code",
      "source": "import matplotlib.pyplot as plt\n%matplotlib inline\nimport matplotlib.image as image\nimport numpy as np\n\noriginal_image = image.imread(dark_image_filename)\n\nfig=plt.figure(figsize=(18, 10), dpi= 80, facecolor='w', edgecolor='k')\n\nplt.subplot(121), plt.imshow(original_image), plt.title(\"Original image\")\nplt.subplot(122), plt.title(\"Histogram\")\n\ncolor = ('red','green','blue')\n\nfor i,col in enumerate(color):\n    hist,bins = np.histogram(original_image[:, : , i].ravel(),256,[0,256])\n    plt.subplot(122), plt.plot(hist, color = col), plt.xlim([0,256])\n\nplt.show()",
      "execution_count": null,
      "outputs": []
    },
    {
      "metadata": {
        "trusted": true
      },
      "cell_type": "code",
      "source": "from skimage import exposure, io\n\nimage = io.imread(dark_image_filename)\np2, p98 = np.percentile(image, (2, 98))\nhist_stratch_image = exposure.rescale_intensity(image, in_range=(p2, p98))\n\nfig=plt.figure(figsize=(18, 16), dpi= 80, facecolor='w', edgecolor='k')\n   \nplt.subplot(221), plt.imshow(image), plt.title(\"Original image\")\nplt.subplot(222), plt.imshow(hist_stratch_image), plt.title(\"Histogram stratchet image\")\n\ncolor = ('red','green','blue')\n\nfor i,col in enumerate(color):\n    hist,bins = np.histogram(image[:, : , i].ravel(),256,[0,256])\n    hist_stratch,bins_stratch = np.histogram(hist_stratch_image[:, : , i].ravel(),256,[0,255])\n    plt.subplot(223), plt.plot(hist, color = col), plt.xlim([0,256])\n    plt.subplot(224), plt.plot(hist_stratch, color = col), plt.xlim([0,256])\n\nplt.show()",
      "execution_count": null,
      "outputs": []
    },
    {
      "metadata": {
        "trusted": true
      },
      "cell_type": "code",
      "source": "import copy\n\nimage = io.imread(dark_image_filename)\n\nfig=plt.figure(figsize=(18, 16), dpi= 80, facecolor='w', edgecolor='k')\n\nplt.subplot(221), plt.imshow(image), plt.title(\"Original image\")\n\nhist_eq_image = np.zeros((image.shape[0], image.shape[1], image.shape[2]))\nfor channel in range(image.shape[2]):  # equalizing each channel\n    hist_eq_image[:, :, channel] = exposure.equalize_hist(image[:, :, channel])\n    \nplt.subplot(222), plt.imshow(hist_eq_image), plt.title(\"Histogram equalized image\")\n\ncolor = ('red','green','blue')\n\nfor i,col in enumerate(color):\n    hist,bins = np.histogram(image[:, : , i].ravel(),256,[0,256])\n    hist_eq,bins_eg = np.histogram(hist_eq_image[:, : , i].ravel(),256,[0,1])\n    plt.subplot(223), plt.plot(hist, color = col), plt.xlim([0,256])\n    plt.subplot(224), plt.plot(hist_eq, color = col), plt.xlim([0,256])\n\nplt.show()",
      "execution_count": null,
      "outputs": []
    },
    {
      "metadata": {
        "trusted": true
      },
      "cell_type": "code",
      "source": "import numpy as np\nfrom skimage import exposure, io\n\nimage = io.imread(dark_image_filename)\n\nhist_eq_image = np.zeros((image.shape[0], image.shape[1], image.shape[2]))\nfor channel in range(image.shape[2]):  # equalizing each channel\n    hist_eq_image[:, :, channel] = exposure.equalize_hist(image[:, :, channel])\n\np2, p98 = np.percentile(image, (2, 98))\nhist_stratch_image = exposure.rescale_intensity(image, in_range=(p2, p98))\n\nfig=plt.figure(figsize=(18, 16), dpi= 80, facecolor='w', edgecolor='k')\n   \nplt.subplot(231), plt.imshow(image), plt.title(\"Original image\")\nplt.subplot(232), plt.imshow(hist_stratch_image), plt.title(\"Histogram stratchet image\")\nplt.subplot(233), plt.imshow(hist_eq_image), plt.title(\"Histogram equalized image\")\n\ncolor = ('red','green','blue')\n\nfor i,col in enumerate(color):\n    hist,bins = np.histogram(image[:, : , i].ravel(),256,[0,256])\n    hist_stratch,bins_stratch = np.histogram(hist_stratch_image[:, : , i].ravel(),256,[0,255])\n    hist_eq,bins_eg = np.histogram(hist_eq_image[:, : , i].ravel(),256,[0,1])\n    plt.subplot(234), plt.plot(hist, color = col), plt.xlim([0,256])\n    plt.subplot(235), plt.plot(hist_stratch, color = col), plt.xlim([0,256])\n    plt.subplot(236), plt.plot(hist_eq, color = col), plt.xlim([0,256])\n\nplt.show()",
      "execution_count": null,
      "outputs": []
    },
    {
      "metadata": {
        "trusted": true
      },
      "cell_type": "code",
      "source": "",
      "execution_count": null,
      "outputs": []
    }
  ],
  "metadata": {
    "kernelspec": {
      "name": "python36",
      "display_name": "Python 3.6",
      "language": "python"
    },
    "language_info": {
      "mimetype": "text/x-python",
      "nbconvert_exporter": "python",
      "name": "python",
      "pygments_lexer": "ipython3",
      "version": "3.6.6",
      "file_extension": ".py",
      "codemirror_mode": {
        "version": 3,
        "name": "ipython"
      }
    }
  },
  "nbformat": 4,
  "nbformat_minor": 2
}